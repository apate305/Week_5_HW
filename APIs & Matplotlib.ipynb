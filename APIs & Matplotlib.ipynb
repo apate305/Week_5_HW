{
 "cells": [
  {
   "cell_type": "code",
   "execution_count": 2,
   "id": "fc8bb656",
   "metadata": {},
   "outputs": [],
   "source": [
    "#below is how we read from the file called 'api_keys'\n",
    "from api_keys import api_key\n",
    "\n",
    "#you import a variable named api_key\n",
    "#the file is called api_keys\n",
    "#the interpreter assumes its a .py file, so you dont need to specify\n",
    "\n",
    "#the code below will print the key\n",
    "    #print(api_key)"
   ]
  },
  {
   "cell_type": "code",
   "execution_count": 5,
   "id": "90c85341",
   "metadata": {},
   "outputs": [
    {
     "name": "stdout",
     "output_type": "stream",
     "text": [
      "<!doctype html>\n",
      "<html>\n",
      "<head>\n",
      "    <title>Example Domain</title>\n",
      "\n",
      "    <meta charset=\"utf-8\" />\n",
      "    <meta http-equiv=\"Content-type\" content=\"text/html; charset=utf-8\" />\n",
      "    <meta name=\"viewport\" content=\"width=device-width, initial-scale=1\" />\n",
      "    <style type=\"text/css\">\n",
      "    body {\n",
      "        background-color: #f0f0f2;\n",
      "        margin: 0;\n",
      "        padding: 0;\n",
      "        font-family: -apple-system, system-ui, BlinkMacSystemFont, \"Segoe UI\", \"Open Sans\", \"Helvetica Neue\", Helvetica, Arial, sans-serif;\n",
      "        \n",
      "    }\n",
      "    div {\n",
      "        width: 600px;\n",
      "        margin: 5em auto;\n",
      "        padding: 2em;\n",
      "        background-color: #fdfdff;\n",
      "        border-radius: 0.5em;\n",
      "        box-shadow: 2px 3px 7px 2px rgba(0,0,0,0.02);\n",
      "    }\n",
      "    a:link, a:visited {\n",
      "        color: #38488f;\n",
      "        text-decoration: none;\n",
      "    }\n",
      "    @media (max-width: 700px) {\n",
      "        div {\n",
      "            margin: 0 auto;\n",
      "            width: auto;\n",
      "        }\n",
      "    }\n",
      "    </style>    \n",
      "</head>\n",
      "\n",
      "<body>\n",
      "<div>\n",
      "    <h1>Example Domain</h1>\n",
      "    <p>This domain is for use in illustrative examples in documents. You may use this\n",
      "    domain in literature without prior coordination or asking for permission.</p>\n",
      "    <p><a href=\"https://www.iana.org/domains/example\">More information...</a></p>\n",
      "</div>\n",
      "</body>\n",
      "</html>\n",
      "\n"
     ]
    }
   ],
   "source": [
    "#look at data on a website with code below\n",
    "#we can take the HTML from a website and display it here using 'requests'\n",
    "import requests \n",
    "import pandas as pd\n",
    "\n",
    "#create a variable for a url \n",
    "url = 'http://www.example.com'\n",
    "\n",
    "#requests library/module is used to send all types\n",
    "#of http requests\n",
    "req = requests.get(url)\n",
    "print(req.text)"
   ]
  },
  {
   "cell_type": "code",
   "execution_count": 9,
   "id": "f06cc2ba",
   "metadata": {},
   "outputs": [
    {
     "name": "stdout",
     "output_type": "stream",
     "text": [
      "http://api.openweathermap.org/data/2.5/weather?units=Imperial&APPID=4614311f0b8ec98cc359660ec59c77bf&q=st. louis\n",
      "{'coord': {'lon': -90.1979, 'lat': 38.6273}, 'weather': [{'id': 801, 'main': 'Clouds', 'description': 'few clouds', 'icon': '02d'}], 'base': 'stations', 'main': {'temp': 62.82, 'feels_like': 61.14, 'temp_min': 60.35, 'temp_max': 65.37, 'pressure': 1023, 'humidity': 50}, 'visibility': 10000, 'wind': {'speed': 3, 'deg': 202, 'gust': 5.99}, 'clouds': {'all': 20}, 'dt': 1634413080, 'sys': {'type': 2, 'id': 2009674, 'country': 'US', 'sunrise': 1634386261, 'sunset': 1634426472}, 'timezone': -18000, 'id': 4407066, 'name': 'St Louis', 'cod': 200}\n"
     ]
    }
   ],
   "source": [
    "#The below code is how 'open weather map' expects us to contruct an api-->\n",
    "    #give it 'units' and APPID which is the same as api key\n",
    "    #will give us currect weather for st louis\n",
    "    \n",
    "base_url = \"http://api.openweathermap.org/data/2.5/weather?units=Imperial&APPID=\" + api_key\n",
    "city = 'st. louis'\n",
    "\n",
    "#q represents the city\n",
    "req = requests.get(base_url + f'&q={city}')\n",
    "\n",
    "\n",
    "print(base_url + f'&q={city}') #f'' is a formatting notation and &q= is how the\n",
    "                               #open weather map expects us to pass in the city\n",
    "                               #aka q represents city\n",
    "#create a json output of the data\n",
    "json_data = req.json()\n",
    "print(json_data)"
   ]
  },
  {
   "cell_type": "code",
   "execution_count": 10,
   "id": "b5aa3545",
   "metadata": {},
   "outputs": [
    {
     "data": {
      "text/plain": [
       "{'temp': 62.82,\n",
       " 'feels_like': 61.14,\n",
       " 'temp_min': 60.35,\n",
       " 'temp_max': 65.37,\n",
       " 'pressure': 1023,\n",
       " 'humidity': 50}"
      ]
     },
     "execution_count": 10,
     "metadata": {},
     "output_type": "execute_result"
    }
   ],
   "source": [
    "json_data['main']"
   ]
  },
  {
   "cell_type": "code",
   "execution_count": 11,
   "id": "25924733",
   "metadata": {},
   "outputs": [
    {
     "data": {
      "text/plain": [
       "{'lon': -90.1979, 'lat': 38.6273}"
      ]
     },
     "execution_count": 11,
     "metadata": {},
     "output_type": "execute_result"
    }
   ],
   "source": [
    "json_data['coord']"
   ]
  },
  {
   "cell_type": "code",
   "execution_count": 12,
   "id": "f0086a18",
   "metadata": {},
   "outputs": [
    {
     "data": {
      "text/plain": [
       "'few clouds'"
      ]
     },
     "execution_count": 12,
     "metadata": {},
     "output_type": "execute_result"
    }
   ],
   "source": [
    "#digging a couple layers deep--nested values\n",
    "weather_desc= json_data ['weather'][0]['description'] #0 is ONLY FOR LIST NOT DICT\n",
    "weather_desc"
   ]
  },
  {
   "cell_type": "code",
   "execution_count": 21,
   "id": "37137f19",
   "metadata": {},
   "outputs": [
    {
     "name": "stdout",
     "output_type": "stream",
     "text": [
      "processing denver\n",
      "processing st louis\n",
      "chicgo not found\n",
      "processing phoenix\n"
     ]
    }
   ],
   "source": [
    "#list of cities\n",
    "cities_list = ['denver','st louis','chicgo','phoenix']\n",
    "#create a dataframe to hold the above information but first create dict.\n",
    "city_weather = {'city':[],\n",
    "               'humidity':[],\n",
    "               'pressure':[]}\n",
    "#loop thru list of each city and give the humidity and pressure and add to dict\n",
    "\n",
    "for city in cities_list:\n",
    "    base_url = \"http://api.openweathermap.org/data/2.5/weather?units=Imperial&APPID=\" + api_key\n",
    "    #tray/except--if an error occurs when calling the api we use exception handling \n",
    "    try:     \n",
    "        #q represents the city\n",
    "        req = requests.get(base_url + f'&q={city}')\n",
    "        \n",
    "        data = req.json() #convert req to json so easier to read instead of text \n",
    "                          #'casting req to json'\n",
    "        #add values to our city weather dict\n",
    "        #Reference: name of dic, column you are adding data to,\n",
    "        #.append, what you're adding(data taken from dict--name)\n",
    "        city_weather['city'].append(data['name'])\n",
    "        city_weather['humidity'].append(data['main']['humidity'])\n",
    "        city_weather['pressure'].append(data['main']['pressure'])\n",
    "        \n",
    "        print(\"processing \" + city)\n",
    "    except:\n",
    "        print(city+ \" not found\") #print the error(name of city + not found)\n",
    "        pass #if we want the code to continue to the next part of the loop we use 'pass'\n",
    "    "
   ]
  },
  {
   "cell_type": "code",
   "execution_count": 22,
   "id": "30c70e84",
   "metadata": {},
   "outputs": [
    {
     "data": {
      "text/plain": [
       "{'city': ['Denver', 'St Louis', 'Phoenix'],\n",
       " 'humidity': [17, 50, 14],\n",
       " 'pressure': [1022, 1023, 1013]}"
      ]
     },
     "execution_count": 22,
     "metadata": {},
     "output_type": "execute_result"
    }
   ],
   "source": [
    "city_weather"
   ]
  },
  {
   "cell_type": "code",
   "execution_count": 23,
   "id": "320e6558",
   "metadata": {},
   "outputs": [
    {
     "data": {
      "text/html": [
       "<div>\n",
       "<style scoped>\n",
       "    .dataframe tbody tr th:only-of-type {\n",
       "        vertical-align: middle;\n",
       "    }\n",
       "\n",
       "    .dataframe tbody tr th {\n",
       "        vertical-align: top;\n",
       "    }\n",
       "\n",
       "    .dataframe thead th {\n",
       "        text-align: right;\n",
       "    }\n",
       "</style>\n",
       "<table border=\"1\" class=\"dataframe\">\n",
       "  <thead>\n",
       "    <tr style=\"text-align: right;\">\n",
       "      <th></th>\n",
       "      <th>city</th>\n",
       "      <th>humidity</th>\n",
       "      <th>pressure</th>\n",
       "    </tr>\n",
       "  </thead>\n",
       "  <tbody>\n",
       "    <tr>\n",
       "      <th>0</th>\n",
       "      <td>Denver</td>\n",
       "      <td>17</td>\n",
       "      <td>1022</td>\n",
       "    </tr>\n",
       "    <tr>\n",
       "      <th>1</th>\n",
       "      <td>St Louis</td>\n",
       "      <td>50</td>\n",
       "      <td>1023</td>\n",
       "    </tr>\n",
       "    <tr>\n",
       "      <th>2</th>\n",
       "      <td>Phoenix</td>\n",
       "      <td>14</td>\n",
       "      <td>1013</td>\n",
       "    </tr>\n",
       "  </tbody>\n",
       "</table>\n",
       "</div>"
      ],
      "text/plain": [
       "       city  humidity  pressure\n",
       "0    Denver        17      1022\n",
       "1  St Louis        50      1023\n",
       "2   Phoenix        14      1013"
      ]
     },
     "execution_count": 23,
     "metadata": {},
     "output_type": "execute_result"
    }
   ],
   "source": [
    "#weather_df = pd.DataFrame([city_weather])->if this doesn't work, you can do the below\n",
    "weather_df = pd.DataFrame.from_dict(city_weather)\n",
    "weather_df"
   ]
  },
  {
   "cell_type": "code",
   "execution_count": null,
   "id": "384256ee",
   "metadata": {},
   "outputs": [],
   "source": [
    "# Import the matplotlib.pyplot submodule and name it plt\n",
    "import matplotlib.pyplot as plt\n",
    "\n",
    "# Create a Figure and an Axes with plt.subplots\n",
    "fig, ax = plt.subplots()\n",
    "\n",
    "# Call the show function to show the result\n",
    "plt.show()"
   ]
  },
  {
   "cell_type": "code",
   "execution_count": null,
   "id": "30f57048",
   "metadata": {},
   "outputs": [],
   "source": [
    "# Import the matplotlib.pyplot submodule and name it plt\n",
    "import matplotlib.pyplot as plt\n",
    "\n",
    "# Create a Figure and an Axes with plt.subplots\n",
    "fig, ax = plt.subplots()\n",
    "\n",
    "# Plot MLY-PRCP-NORMAL from seattle_weather against the MONTH\n",
    "ax.plot(seattle_weather[\"MONTH\"], seattle_weather[\"MLY-PRCP-NORMAL\"])\n",
    "\n",
    "# Plot MLY-PRCP-NORMAL from austin_weather against MONTH\n",
    "ax.plot(austin_weather[\"MONTH\"], austin_weather[\"MLY-PRCP-NORMAL\"])\n",
    "\n",
    "# Call the show function\n",
    "plt.show()"
   ]
  },
  {
   "cell_type": "code",
   "execution_count": null,
   "id": "6f7b7878",
   "metadata": {},
   "outputs": [],
   "source": [
    "#Plot Seattle data, setting data appearance\n",
    "ax.plot(seattle_weather[\"MONTH\"], seattle_weather[\"MLY-PRCP-NORMAL\"], color = \"b\", marker = \"o\", linestyle = \"--\")\n",
    "\n",
    "# Plot Austin data, setting data appearance\n",
    "ax.plot(austin_weather[\"MONTH\"], austin_weather[\"MLY-PRCP-NORMAL\"], color = \"r\", marker = \"v\", linestyle = \"--\")\n",
    "\n",
    "# Call show to display the resulting plot\n",
    "plt.show()"
   ]
  },
  {
   "cell_type": "code",
   "execution_count": null,
   "id": "3fd3fc50",
   "metadata": {},
   "outputs": [],
   "source": [
    "ax.plot(seattle_weather[\"MONTH\"], seattle_weather[\"MLY-PRCP-NORMAL\"])\n",
    "ax.plot(austin_weather[\"MONTH\"], austin_weather[\"MLY-PRCP-NORMAL\"])\n",
    "\n",
    "# Customize the x-axis label\n",
    "ax.set_xlabel(\"Time (months)\")\n",
    "\n",
    "# Customize the y-axis label\n",
    "ax.set_ylabel(\"Precipitation (inches)\")\n",
    "\n",
    "# Add the title\n",
    "ax.set_title(\"Weather patterns in Austin and Seattle\")\n",
    "\n",
    "# Display the figure\n",
    "plt.show()"
   ]
  },
  {
   "cell_type": "code",
   "execution_count": null,
   "id": "7de7a89e",
   "metadata": {},
   "outputs": [],
   "source": [
    "# Create a Figure and an array of subplots with 2 rows and 2 columns\n",
    "fig, ax = plt.subplots(2, 2)\n",
    "\n",
    "# Addressing the top left Axes as index 0, 0, plot month and Seattle precipitation\n",
    "ax[0, 0].plot(seattle_weather[\"MONTH\"], seattle_weather[\"MLY-PRCP-NORMAL\"])\n",
    "\n",
    "# In the top right (index 0,1), plot month and Seattle temperatures\n",
    "ax[0, 1].plot(seattle_weather[\"MONTH\"], seattle_weather[\"MLY-TAVG-NORMAL\"])\n",
    "\n",
    "# In the bottom left (1, 0) plot month and Austin precipitations\n",
    "ax[1,0].plot(austin_weather[\"MONTH\"], austin_weather[\"MLY-PRCP-NORMAL\"])\n",
    "\n",
    "# In the bottom right (1, 1) plot month and Austin temperatures\n",
    "ax[1,1].plot(austin_weather[\"MONTH\"], austin_weather[\"MLY-TAVG-NORMAL\"])\n",
    "plt.show()"
   ]
  },
  {
   "cell_type": "code",
   "execution_count": null,
   "id": "4347c9f3",
   "metadata": {},
   "outputs": [],
   "source": [
    "# Create a figure and an array of axes: 2 rows, 1 column with shared y axis\n",
    "fig, ax = plt.subplots(2, 1, sharey=True)\n",
    "\n",
    "# Plot Seattle precipitation in the top axes\n",
    "ax[0].plot(seattle_weather[\"MONTH\"], seattle_weather[\"MLY-PRCP-NORMAL\"], color='b')\n",
    "ax[0].plot(seattle_weather[\"MONTH\"], seattle_weather[\"MLY-PRCP-25PCTL\"], color='b', linestyle='--')\n",
    "ax[0].plot(seattle_weather[\"MONTH\"], seattle_weather[\"MLY-PRCP-75PCTL\"], color='b', linestyle='--')\n",
    "\n",
    "# Plot Austin precipitation in the bottom axes\n",
    "ax[1].plot(austin_weather[\"MONTH\"], austin_weather[\"MLY-PRCP-NORMAL\"], color='r')\n",
    "ax[1].plot(austin_weather[\"MONTH\"], austin_weather[\"MLY-PRCP-25PCTL\"], color='r', linestyle='--')\n",
    "ax[1].plot(austin_weather[\"MONTH\"], austin_weather[\"MLY-PRCP-75PCTL\"], color='r', linestyle='--')\n",
    "\n",
    "plt.show()"
   ]
  },
  {
   "cell_type": "code",
   "execution_count": null,
   "id": "4e25b9d4",
   "metadata": {},
   "outputs": [],
   "source": [
    "# Import pandas\n",
    "import pandas as pd\n",
    "\n",
    "# Read the data from file using read_csv\n",
    "#Use the parse_dates key-word argument to parse the \"date\" column as dates.\n",
    "#Use the index_col key-word argument to set the \"date\" column as the index\n",
    "\n",
    "climate_change = pd.read_csv('climate_change.csv', parse_dates=[\"date\"], index_col=\"date\")"
   ]
  },
  {
   "cell_type": "code",
   "execution_count": null,
   "id": "66918d6e",
   "metadata": {},
   "outputs": [],
   "source": [
    "import matplotlib.pyplot as plt\n",
    "fig, ax = plt.subplots()\n",
    "\n",
    "# Add the time-series for \"relative_temp\" to the plot\n",
    "ax.plot(climate_change.index, climate_change['relative_temp'])\n",
    "\n",
    "# Set the x-axis label\n",
    "ax.set_xlabel('Time')\n",
    "\n",
    "# Set the y-axis label \n",
    "ax.set_ylabel('Relative temperature (Celsius)')\n",
    "\n",
    "# Show the figure\n",
    "plt.show()"
   ]
  },
  {
   "cell_type": "code",
   "execution_count": null,
   "id": "533f4688",
   "metadata": {},
   "outputs": [],
   "source": [
    "#ZOOMING IN!\n",
    "import matplotlib.pyplot as plt\n",
    "\n",
    "# Use plt.subplots to create fig and ax\n",
    "fig, ax = plt.subplots()\n",
    "\n",
    "# Create variable seventies with data from \"1970-01-01\" to \"1979-12-31\"\n",
    "seventies = climate_change[\"1970-01-01\" : \"1979-12-31\"]\n",
    "\n",
    "# Add the time-series for \"co2\" data from seventies to the plot\n",
    "ax.plot(seventies.index, seventies[\"co2\"])\n",
    "\n",
    "# Show the figure\n",
    "plt.show() "
   ]
  },
  {
   "cell_type": "code",
   "execution_count": null,
   "id": "2042c8ce",
   "metadata": {},
   "outputs": [],
   "source": [
    "import matplotlib.pyplot as plt\n",
    "\n",
    "# Initalize a Figure and Axes\n",
    "fig, ax= plt.subplots()\n",
    "\n",
    "# Plot the CO2 variable in blue\n",
    "ax.plot(climate_change.index, climate_change['co2'], color='b')\n",
    "\n",
    "# Create a twin Axes that shares the x-axis\n",
    "ax2 = ax.twinx()\n",
    "\n",
    "# Plot the relative temperature in red\n",
    "ax2.plot(climate_change.index, climate_change['relative_temp'], color='r')\n",
    "\n",
    "plt.show()"
   ]
  },
  {
   "cell_type": "code",
   "execution_count": null,
   "id": "f42080f3",
   "metadata": {},
   "outputs": [],
   "source": [
    "# Define a function called plot_timeseries\n",
    "def plot_timeseries(axes, x, y, color, xlabel, ylabel):\n",
    "\n",
    "  # Plot the inputs x,y in the provided color\n",
    "  axes.plot(x, y, color=color)\n",
    "\n",
    "  # Set the x-axis label\n",
    "  axes.set_xlabel(xlabel)\n",
    "\n",
    "  # Set the y-axis label\n",
    "  axes.set_ylabel(ylabel, color=color)\n",
    "\n",
    "  # Set the colors tick params for y-axis\n",
    "  axes.tick_params('y', colors= color)"
   ]
  },
  {
   "cell_type": "code",
   "execution_count": null,
   "id": "d89b76c8",
   "metadata": {},
   "outputs": [],
   "source": [
    "#USING FUNCTION\n",
    "fig, ax = plt.subplots()\n",
    "\n",
    "# Plot the CO2 levels time-series in blue\n",
    "plot_timeseries(ax, climate_change.index, climate_change['co2'], \"blue\", \"Time (years)\", \"CO2 levels\")\n",
    "\n",
    "# Create a twin Axes object that shares the x-axis\n",
    "ax2 = ax.twinx()\n",
    "\n",
    "# Plot the relative temperature data in red\n",
    "plot_timeseries(ax, climate_change.index, climate_change['relative_temp'], \"red\", \"Time (years)\", \"Relative temperature (Celsius)\")\n",
    "\n",
    "plt.show()"
   ]
  },
  {
   "cell_type": "code",
   "execution_count": null,
   "id": "304692a1",
   "metadata": {},
   "outputs": [],
   "source": [
    "#ANNOTATING\n",
    "fig, ax = plt.subplots()\n",
    "\n",
    "# Plot the relative temperature data\n",
    "ax.plot(climate_change.index, climate_change['relative_temp'])\n",
    "\n",
    "# Annotate the date at which temperatures exceeded 1 degree\n",
    "ax.annotate(\">1 degree\", xy = (pd.Timestamp('2015-10-06'), 1))\n",
    "\n",
    "plt.show()"
   ]
  },
  {
   "cell_type": "code",
   "execution_count": null,
   "id": "d77e3b65",
   "metadata": {},
   "outputs": [],
   "source": [
    "fig, ax = plt.subplots()\n",
    "\n",
    "# Plot the CO2 levels time-series in blue\n",
    "plot_timeseries(ax, climate_change.index, climate_change[\"co2\"], 'blue', \"Time (years)\", \"CO2 levels\")\n",
    "\n",
    "# Create an Axes object that shares the x-axis\n",
    "ax2 = ax.twinx()\n",
    "\n",
    "# Plot the relative temperature data in red\n",
    "plot_timeseries(ax2, climate_change.index, climate_change['relative_temp'], 'red', \"Time (years)\", \"Relative temp (Celsius)\")\n",
    "\n",
    "# Annotate the point with relative temperature >1 degree\n",
    "ax2.annotate(\">1 degree\", xy=(pd.Timestamp('2015-10-06'), 1), xytext=(pd.Timestamp('2008-10-06'), -0.2), arrowprops={'arrowstyle':'->', 'color':'gray'})\n",
    "\n",
    "plt.show()"
   ]
  },
  {
   "cell_type": "code",
   "execution_count": null,
   "id": "e54d0623",
   "metadata": {},
   "outputs": [],
   "source": [
    "#SEABORN MODULE!! BELOW...."
   ]
  },
  {
   "cell_type": "code",
   "execution_count": null,
   "id": "c2f14257",
   "metadata": {},
   "outputs": [],
   "source": [
    "# Import Matplotlib and Seaborn\n",
    "import matplotlib.pyplot as plt\n",
    "import seaborn as sns\n",
    "\n",
    "# Change this scatter plot to have percent literate on the y-axis\n",
    "sns.scatterplot(x=gdp, y=percent_literate)\n",
    "\n",
    "# Show plot\n",
    "plt.show()"
   ]
  },
  {
   "cell_type": "code",
   "execution_count": null,
   "id": "ea777ef0",
   "metadata": {},
   "outputs": [],
   "source": [
    "# Import Matplotlib and Seaborn\n",
    "import matplotlib.pyplot as plt\n",
    "import seaborn as sns\n",
    "\n",
    "\n",
    "# Create count plot with region on the y-axis\n",
    "sns.countplot(y=region)\n",
    "\n",
    "# Show plot\n",
    "plt.show()"
   ]
  }
 ],
 "metadata": {
  "kernelspec": {
   "display_name": "Python 3 (ipykernel)",
   "language": "python",
   "name": "python3"
  },
  "language_info": {
   "codemirror_mode": {
    "name": "ipython",
    "version": 3
   },
   "file_extension": ".py",
   "mimetype": "text/x-python",
   "name": "python",
   "nbconvert_exporter": "python",
   "pygments_lexer": "ipython3",
   "version": "3.9.7"
  }
 },
 "nbformat": 4,
 "nbformat_minor": 5
}
